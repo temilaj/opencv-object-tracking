{
 "cells": [
  {
   "cell_type": "code",
   "execution_count": 7,
   "metadata": {},
   "outputs": [],
   "source": [
    "# Import Libraries\n",
    "import cv2\n",
    "import numpy as np"
   ]
  },
  {
   "cell_type": "code",
   "execution_count": 8,
   "metadata": {},
   "outputs": [],
   "source": [
    "# Parameters for Shi-tomasi corner detection\n",
    "st_params = dict(maxCorners=30,\n",
    "                 qualityLevel=0.2,\n",
    "                 minDistance=2,\n",
    "                 blockSize=7)"
   ]
  },
  {
   "cell_type": "code",
   "execution_count": 9,
   "metadata": {},
   "outputs": [],
   "source": [
    "# Parameters for Lucas-Kande optical flow\n",
    "lk_params = dict(winSize=(15,15),\n",
    "                maxLevel=2,\n",
    "                criteria=(cv2.TERM_CRITERIA_EPS | cv2.TERM_CRITERIA_COUNT, 10, 1))"
   ]
  },
  {
   "cell_type": "code",
   "execution_count": 10,
   "metadata": {},
   "outputs": [],
   "source": [
    "# Video Capture\n",
    "cap = cv2.VideoCapture('Video/run.mp4')"
   ]
  },
  {
   "cell_type": "code",
   "execution_count": 11,
   "metadata": {},
   "outputs": [],
   "source": [
    "# Color for optical flow\n",
    "color = (0, 255, 0)"
   ]
  },
  {
   "cell_type": "code",
   "execution_count": 12,
   "metadata": {},
   "outputs": [],
   "source": [
    "# Read the capture and get the first frame\n",
    "ret, first_frame = cap.read()"
   ]
  },
  {
   "cell_type": "code",
   "execution_count": 13,
   "metadata": {},
   "outputs": [],
   "source": [
    "# Convert frame to Grayscale\n",
    "# we need only grayscale for detecting edges\n",
    "prev_gray = cv2.cvtColor(first_frame, cv2.COLOR_BGR2GRAY)"
   ]
  },
  {
   "cell_type": "code",
   "execution_count": 14,
   "metadata": {},
   "outputs": [],
   "source": [
    "# Find the strongest corners in the first frame \n",
    "# with the Shi-tomasi dictionary method and track the optical flow for the corners\n",
    "prev = cv2.goodFeaturesToTrack(prev_gray,\n",
    "                             mask=None,\n",
    "                             **st_params)"
   ]
  },
  {
   "cell_type": "code",
   "execution_count": 15,
   "metadata": {},
   "outputs": [],
   "source": [
    "# Create an image with the same dimensions as the frame for later drawing purposes\n",
    "mask = np.zeros_like(first_frame)"
   ]
  },
  {
   "cell_type": "code",
   "execution_count": null,
   "metadata": {},
   "outputs": [
    {
     "name": "stderr",
     "output_type": "stream",
     "text": [
      "<ipython-input-16-bc7898998dd1>:29: DeprecationWarning: an integer is required (got type numpy.float32).  Implicit conversion to integers using __int__ is deprecated, and may be removed in a future version of Python.\n",
      "  mask = cv2.line(mask,\n",
      "<ipython-input-16-bc7898998dd1>:36: DeprecationWarning: an integer is required (got type numpy.float32).  Implicit conversion to integers using __int__ is deprecated, and may be removed in a future version of Python.\n",
      "  framce = cv2.circle(frame,\n"
     ]
    }
   ],
   "source": [
    "# While loop\n",
    "while(cap.isOpened()):\n",
    "\n",
    "    # Read the capture and get the first frame\n",
    "    ret, frame = cap.read()\n",
    "    \n",
    "    # Convert all frame to Grayscale (previously we did only the first frame)\n",
    "    gray = cv2.cvtColor(frame, cv2.COLOR_BGR2GRAY)\n",
    "    \n",
    "    # Calculate optical flow by Lucas-Kanade\n",
    "    next, status, error = cv2.calcOpticalFlowPyrLK(prev_gray, gray, prev, None, **lk_params)\n",
    "    \n",
    "    # Select good feature for the previous position\n",
    "    good_old = prev[status == 1]\n",
    "    \n",
    "    # Select good feature for the next position\n",
    "    good_new = next[status == 1]\n",
    "    \n",
    "    # Draw optical flow track\n",
    "    for i, (new, old) in enumerate(zip(good_new, good_old)):\n",
    "    \n",
    "        # Return coordinates for the new point\n",
    "        a,b = new.ravel()\n",
    "        \n",
    "        # Return coordinates for the old point\n",
    "        c,d = old.ravel()\n",
    "        \n",
    "        # Draw line between new and old position\n",
    "        mask = cv2.line(mask,\n",
    "                       (a,b),\n",
    "                        (c,d),\n",
    "                        color,\n",
    "                        2)\n",
    "        \n",
    "        # Draw filled circle\n",
    "        framce = cv2.circle(frame,\n",
    "                           (a,b),\n",
    "                           3,\n",
    "                           color,\n",
    "                           -1)\n",
    "        \n",
    "    # Overlay optical flow on original frame\n",
    "    output = cv2.add(frame, mask)\n",
    "    \n",
    "    # Update previous frame\n",
    "    prev_gray = gray.copy()\n",
    "    \n",
    "    # Update previous good features\n",
    "    prev = good_new.reshape(-1, 1, 2)\n",
    "    \n",
    "    # Open new window and display the output\n",
    "    cv2.imshow(\"Optical Flow\", output)\n",
    "    \n",
    "    # Close the frame\n",
    "    if cv2.waitKey(300) & 0xFF == ord(\"q\"):\n",
    "        break\n",
    "    \n",
    "    \n",
    "# Release and Destroy\n",
    "cap.release()\n",
    "cv2.destroyAllWindows()\n",
    "\n"
   ]
  },
  {
   "cell_type": "code",
   "execution_count": null,
   "metadata": {},
   "outputs": [],
   "source": []
  }
 ],
 "metadata": {
  "kernelspec": {
   "display_name": "Python 3",
   "language": "python",
   "name": "python3"
  },
  "language_info": {
   "codemirror_mode": {
    "name": "ipython",
    "version": 3
   },
   "file_extension": ".py",
   "mimetype": "text/x-python",
   "name": "python",
   "nbconvert_exporter": "python",
   "pygments_lexer": "ipython3",
   "version": "3.8.3"
  }
 },
 "nbformat": 4,
 "nbformat_minor": 4
}
